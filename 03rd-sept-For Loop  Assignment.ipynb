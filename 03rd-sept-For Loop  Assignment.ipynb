{
 "cells": [
  {
   "cell_type": "markdown",
   "id": "de09a012-eb0b-4f6f-b7e2-fa7153e3a5e0",
   "metadata": {},
   "source": [
    "1. Write a Python program to print the numbers from 1 to 10 using a `for` loop."
   ]
  },
  {
   "cell_type": "code",
   "execution_count": 7,
   "id": "75fdfc66-6118-47d1-b44c-47d9a68d1729",
   "metadata": {},
   "outputs": [
    {
     "name": "stdout",
     "output_type": "stream",
     "text": [
      "1\n",
      "2\n",
      "3\n",
      "4\n",
      "5\n",
      "6\n",
      "7\n",
      "8\n",
      "9\n",
      "10\n"
     ]
    }
   ],
   "source": [
    "for i in range(1,11):\n",
    "    print(i)"
   ]
  },
  {
   "cell_type": "markdown",
   "id": "0f7bbf5c-7cdd-4acc-8ac4-8636f9aa0da4",
   "metadata": {},
   "source": [
    "2. Create a program that calculates the sum of all numbers in a list using a `for` loop."
   ]
  },
  {
   "cell_type": "code",
   "execution_count": 6,
   "id": "ae12aa27-07c7-4020-9f2b-036c5f763b80",
   "metadata": {},
   "outputs": [
    {
     "data": {
      "text/plain": [
       "21"
      ]
     },
     "execution_count": 6,
     "metadata": {},
     "output_type": "execute_result"
    }
   ],
   "source": [
    "lis = [5,5,5,6]\n",
    "result = sum(i for i in lis)\n",
    "result"
   ]
  },
  {
   "cell_type": "markdown",
   "id": "4b56eff0-1ca7-4fd7-bdce-4b1e7f5a9b9b",
   "metadata": {},
   "source": [
    "3. Write a program to print the characters of a string in reverse order using a `for` loop."
   ]
  },
  {
   "cell_type": "code",
   "execution_count": 2,
   "id": "95d25fec-ba36-41b2-9942-89f98a719108",
   "metadata": {},
   "outputs": [
    {
     "name": "stdout",
     "output_type": "stream",
     "text": [
      "['olleh', 'ih']\n"
     ]
    }
   ],
   "source": [
    "def reverse(n):\n",
    "    result = []\n",
    "    for i in n:\n",
    "        result.append(i[::-1])\n",
    "    return result\n",
    "n = [\"hello\",\"hi\"]\n",
    "print(reverse(n))"
   ]
  },
  {
   "cell_type": "markdown",
   "id": "d1b29059-4d36-464b-94a2-087b94cf2ec9",
   "metadata": {},
   "source": [
    "4. Develop a program that finds the factorial of a given number using a `for` loop."
   ]
  },
  {
   "cell_type": "code",
   "execution_count": 3,
   "id": "8fd8768d-37d2-4ec0-bc7b-6fc370495358",
   "metadata": {},
   "outputs": [
    {
     "name": "stdout",
     "output_type": "stream",
     "text": [
      "120\n"
     ]
    }
   ],
   "source": [
    "def factorial(n):\n",
    "    result = 1\n",
    "    for i in range(1,n+1):\n",
    "        result = result * i \n",
    "    return result\n",
    "n = 5\n",
    "print(factorial(n))"
   ]
  },
  {
   "cell_type": "markdown",
   "id": "f2c56723-4540-40cf-bc92-4d563d841ee3",
   "metadata": {},
   "source": [
    "5. Create a program to print the multiplication table of a given number using a `for` loop."
   ]
  },
  {
   "cell_type": "code",
   "execution_count": 71,
   "id": "0686338e-f896-4011-a062-6a049c37a75f",
   "metadata": {},
   "outputs": [
    {
     "name": "stdout",
     "output_type": "stream",
     "text": [
      "1 X 3 = 3\n",
      "2 X 3 = 6\n",
      "3 X 3 = 9\n",
      "4 X 3 = 12\n",
      "5 X 3 = 15\n",
      "6 X 3 = 18\n",
      "7 X 3 = 21\n",
      "8 X 3 = 24\n",
      "9 X 3 = 27\n",
      "10 X 3 = 30\n"
     ]
    }
   ],
   "source": [
    "def table(n):\n",
    "    for i in range(1,11):\n",
    "        print (f'{i} X {n} = {i * n}')\n",
    "n = 3\n",
    "table(n)"
   ]
  },
  {
   "cell_type": "markdown",
   "id": "10be2033-26a3-48f2-8bfb-0ce09e7abaf3",
   "metadata": {},
   "source": [
    "6. Write a program that counts the number of even and odd numbers in a list using a `for` loop."
   ]
  },
  {
   "cell_type": "code",
   "execution_count": 5,
   "id": "8760cd95-1f90-443d-8da5-037b1b47edaf",
   "metadata": {},
   "outputs": [
    {
     "name": "stdout",
     "output_type": "stream",
     "text": [
      "(5, 5)\n"
     ]
    }
   ],
   "source": [
    "def count_oe(n):\n",
    "    odd = 0\n",
    "    even = 0\n",
    "    for i in n:\n",
    "        if i % 2 == 0:\n",
    "            even += 1\n",
    "        else:\n",
    "            odd += 1\n",
    "    return odd, even\n",
    "n = [1,2,3,4,5,6,7,8,9,10]\n",
    "print(count_oe(n))"
   ]
  },
  {
   "cell_type": "markdown",
   "id": "869844f5-14a4-4daf-99d2-a4c441ccbf76",
   "metadata": {},
   "source": [
    "7. Develop a program that prints the squares of numbers from 1 to 5 using a `for` loop."
   ]
  },
  {
   "cell_type": "code",
   "execution_count": 6,
   "id": "7f7be6af-917a-41cb-8fab-f6b99fe33689",
   "metadata": {},
   "outputs": [
    {
     "data": {
      "text/plain": [
       "[1, 4, 9, 16, 25]"
      ]
     },
     "execution_count": 6,
     "metadata": {},
     "output_type": "execute_result"
    }
   ],
   "source": [
    "result = list(i**2 for i in range(1,6))\n",
    "result"
   ]
  },
  {
   "cell_type": "markdown",
   "id": "9056d319-49b6-4181-aa53-fe738b84945d",
   "metadata": {},
   "source": [
    "8. Create a program to find the length of a string without using the `len()` function."
   ]
  },
  {
   "cell_type": "code",
   "execution_count": 10,
   "id": "6ef28843-78fd-436f-97ef-2e6b20ba9a34",
   "metadata": {},
   "outputs": [
    {
     "name": "stdout",
     "output_type": "stream",
     "text": [
      "8\n"
     ]
    }
   ],
   "source": [
    "def length(n):\n",
    "    result = 0\n",
    "    for i in n:\n",
    "        result += 1\n",
    "    return result\n",
    "n = \"helloooo\"\n",
    "print(length(n))"
   ]
  },
  {
   "cell_type": "markdown",
   "id": "74546f8a-bf69-4f17-b604-9da177681072",
   "metadata": {},
   "source": [
    "9. Write a program that calculates the average of a list of numbers using a `for` loop."
   ]
  },
  {
   "cell_type": "code",
   "execution_count": 15,
   "id": "5e631d14-b5d8-474b-8317-26268d5e339c",
   "metadata": {},
   "outputs": [
    {
     "data": {
      "text/plain": [
       "16"
      ]
     },
     "execution_count": 15,
     "metadata": {},
     "output_type": "execute_result"
    }
   ],
   "source": [
    "n = [2,3,4,5,6,7,8,10,100]\n",
    "result = int(sum(i for i in n) / len(n))\n",
    "result"
   ]
  },
  {
   "cell_type": "markdown",
   "id": "61d4cd74-e6cc-4d30-a531-da2f98318a28",
   "metadata": {},
   "source": [
    "10. Develop a program that prints the first `n` Fibonacci numbers using a `for` loop."
   ]
  },
  {
   "cell_type": "code",
   "execution_count": 32,
   "id": "907e6f51-d2fa-4670-8fb7-d207a75536a7",
   "metadata": {},
   "outputs": [
    {
     "name": "stdout",
     "output_type": "stream",
     "text": [
      "[0, 1, 1, 2, 3, 5, 8, 13, 21, 34, 55, 89]\n"
     ]
    }
   ],
   "source": [
    "def fibo(n):\n",
    "    result = [0,1]\n",
    "    for i in range(1,n+1):\n",
    "        result.append(sum(result[-2::]))\n",
    "    return result\n",
    "n = 10\n",
    "print(fibo(n))"
   ]
  },
  {
   "cell_type": "markdown",
   "id": "2b4b2766-f5e2-475d-b354-228e144a3b36",
   "metadata": {},
   "source": [
    "11. Write a program to check if a given list contains any duplicates using a `for` loop."
   ]
  },
  {
   "cell_type": "code",
   "execution_count": 48,
   "id": "3655c075-5faf-4066-b870-53929bad0b32",
   "metadata": {},
   "outputs": [
    {
     "name": "stdout",
     "output_type": "stream",
     "text": [
      "duplicate\n"
     ]
    }
   ],
   "source": [
    "def find_duplicates(n):\n",
    "    a = n[0]\n",
    "    b = n[1:]\n",
    "    for i in b :\n",
    "        if a in b:\n",
    "            return \"duplicate\"\n",
    "        else:\n",
    "            find_duplicates(b)\n",
    "            return \"no duplicate\"\n",
    "n = [1,2,3,4,5,1]\n",
    "print(find_duplicates(n))"
   ]
  },
  {
   "cell_type": "markdown",
   "id": "15b83d90-1450-431b-8d1b-c8621c8c5532",
   "metadata": {},
   "source": [
    "12. Create a program that prints the prime numbers in a given range using a `for` loop."
   ]
  },
  {
   "cell_type": "code",
   "execution_count": 49,
   "id": "f93541a0-07da-4402-b30b-3d0497619ff2",
   "metadata": {},
   "outputs": [
    {
     "name": "stdout",
     "output_type": "stream",
     "text": [
      "[2, 3, 5, 7, 11, 13, 17, 19]\n"
     ]
    }
   ],
   "source": [
    "def prime(num):\n",
    "    if num < 2:\n",
    "        return False\n",
    "    for i in range(2, int(num**0.5) + 1):\n",
    "        if num % i == 0:\n",
    "            return False\n",
    "    return True\n",
    "n = 20\n",
    "result = list(j for j in range(1,n) if prime(j) == True)\n",
    "print(result) "
   ]
  },
  {
   "cell_type": "markdown",
   "id": "003d1bd3-4085-46bd-b504-b34b6f943498",
   "metadata": {},
   "source": [
    "13. Develop a program that counts the number of vowels in a string using a `for` loop."
   ]
  },
  {
   "cell_type": "code",
   "execution_count": 52,
   "id": "6244f858-9cdc-4698-8c27-1829c6a18670",
   "metadata": {},
   "outputs": [
    {
     "name": "stdout",
     "output_type": "stream",
     "text": [
      "5\n"
     ]
    }
   ],
   "source": [
    "def check_vowels(n):\n",
    "    vowels = \"a,e,i,,o,u\"\n",
    "    count = 0\n",
    "    for i in string:\n",
    "        if i in vowels:\n",
    "            count += 1\n",
    "    return count\n",
    "\n",
    "string = \"pallavarajan\"\n",
    "print(check_vowels(string))"
   ]
  },
  {
   "cell_type": "markdown",
   "id": "e1f4f392-efd1-43e3-b105-fb29ba40a116",
   "metadata": {},
   "source": [
    "14. Write a program to find the maximum element in a 2D list using a nested `for` loop."
   ]
  },
  {
   "cell_type": "code",
   "execution_count": 53,
   "id": "b4ae637e-a451-46f6-8c5a-312179c2fdde",
   "metadata": {},
   "outputs": [
    {
     "name": "stdout",
     "output_type": "stream",
     "text": [
      "15\n"
     ]
    }
   ],
   "source": [
    "def maxx(n):\n",
    "    b = 0\n",
    "    for i in n:\n",
    "        for j in i:\n",
    "            if j > b:\n",
    "                b = j\n",
    "    return b            \n",
    "n = [[1,2,3],[4,15,6],[7,8,9]]\n",
    "print(maxx(n))        "
   ]
  },
  {
   "cell_type": "markdown",
   "id": "d3204175-8ab6-4975-8c7a-cf2fe695e850",
   "metadata": {},
   "source": [
    "15. Create a program that removes all occurrences of a specific element from a list using a `for` loop."
   ]
  },
  {
   "cell_type": "code",
   "execution_count": 63,
   "id": "d1c571de-ceb1-4a63-9209-5a96fdaaa741",
   "metadata": {},
   "outputs": [
    {
     "name": "stdout",
     "output_type": "stream",
     "text": [
      "[2, 3, 4, 5, 2]\n"
     ]
    }
   ],
   "source": [
    "def remove(n):\n",
    "    remove = 1\n",
    "    result = []\n",
    "    for i in n:\n",
    "        if i != remove:\n",
    "            result.append(i)            \n",
    "    return result\n",
    "n = [1,2,3,4,5,1,1,2]\n",
    "print(remove(n))"
   ]
  },
  {
   "cell_type": "markdown",
   "id": "5745d3d1-71b9-4daf-8cd4-8cfcdbb48427",
   "metadata": {},
   "source": [
    "16. Develop a program that generates a multiplication table for numbers from 1 to 5 using a nested `for` loop."
   ]
  },
  {
   "cell_type": "code",
   "execution_count": 77,
   "id": "585ad922-3875-4330-b11d-4dda2d4e1497",
   "metadata": {},
   "outputs": [
    {
     "name": "stdout",
     "output_type": "stream",
     "text": [
      "1 X 1 = 1\n",
      "2 X 1 = 2\n",
      "3 X 1 = 3\n",
      "4 X 1 = 4\n",
      "5 X 1 = 5\n",
      "6 X 1 = 6\n",
      "7 X 1 = 7\n",
      "8 X 1 = 8\n",
      "9 X 1 = 9\n",
      "10 X 1 = 10\n",
      "1 X 2 = 2\n",
      "2 X 2 = 4\n",
      "3 X 2 = 6\n",
      "4 X 2 = 8\n",
      "5 X 2 = 10\n",
      "6 X 2 = 12\n",
      "7 X 2 = 14\n",
      "8 X 2 = 16\n",
      "9 X 2 = 18\n",
      "10 X 2 = 20\n",
      "1 X 3 = 3\n",
      "2 X 3 = 6\n",
      "3 X 3 = 9\n",
      "4 X 3 = 12\n",
      "5 X 3 = 15\n",
      "6 X 3 = 18\n",
      "7 X 3 = 21\n",
      "8 X 3 = 24\n",
      "9 X 3 = 27\n",
      "10 X 3 = 30\n",
      "1 X 4 = 4\n",
      "2 X 4 = 8\n",
      "3 X 4 = 12\n",
      "4 X 4 = 16\n",
      "5 X 4 = 20\n",
      "6 X 4 = 24\n",
      "7 X 4 = 28\n",
      "8 X 4 = 32\n",
      "9 X 4 = 36\n",
      "10 X 4 = 40\n",
      "1 X 5 = 5\n",
      "2 X 5 = 10\n",
      "3 X 5 = 15\n",
      "4 X 5 = 20\n",
      "5 X 5 = 25\n",
      "6 X 5 = 30\n",
      "7 X 5 = 35\n",
      "8 X 5 = 40\n",
      "9 X 5 = 45\n",
      "10 X 5 = 50\n"
     ]
    }
   ],
   "source": [
    "def table2(n):\n",
    "    for i in range(1,n+1):\n",
    "        for j in range(1,11):\n",
    "            print(f'{j} X {i} = {j * i}')\n",
    "table2(5)"
   ]
  },
  {
   "cell_type": "markdown",
   "id": "6a88339f-abeb-4bae-ba49-a5588b4d455a",
   "metadata": {},
   "source": [
    "17. Write a program that converts a list of Fahrenheit temperatures to Celsius using a `for` loop."
   ]
  },
  {
   "cell_type": "code",
   "execution_count": 84,
   "id": "62d3d770-1ccc-4965-a301-bf59b10923f2",
   "metadata": {},
   "outputs": [
    {
     "name": "stdout",
     "output_type": "stream",
     "text": [
      "[-1.11, 4.44, 10.0]\n"
     ]
    }
   ],
   "source": [
    "def temp_convert(n):\n",
    "    result = []\n",
    "    for i in n:\n",
    "        result.append(round((i - 32) * 5/9,2))\n",
    "    return result\n",
    "n = [30,40,50]\n",
    "print(temp_convert(n))"
   ]
  },
  {
   "cell_type": "markdown",
   "id": "46931512-cb02-41dc-b97b-aee5b702b878",
   "metadata": {},
   "source": [
    "18. Create a program to print the common elements from two lists using a `for` loop."
   ]
  },
  {
   "cell_type": "code",
   "execution_count": 86,
   "id": "a30d0766-3846-4efd-85e8-894f6ec71d22",
   "metadata": {},
   "outputs": [
    {
     "name": "stdout",
     "output_type": "stream",
     "text": [
      "[2, 5]\n"
     ]
    }
   ],
   "source": [
    "def common(lis1,lis2):\n",
    "    result = []\n",
    "    for i in lis1 :\n",
    "        if i in lis2:\n",
    "            result.append(i)\n",
    "    return result\n",
    "a = [1,2,3,4,5]\n",
    "b = [2,5,6,7,8]\n",
    "print(common(a,b))"
   ]
  },
  {
   "cell_type": "markdown",
   "id": "68225560-987d-42b7-840e-2fed3dc98441",
   "metadata": {},
   "source": [
    "19. Develop a program that prints the pattern of right-angled triangles using a `for` loop. Use ‘*’ to draw the\n",
    "pattern"
   ]
  },
  {
   "cell_type": "code",
   "execution_count": 92,
   "id": "cbce401e-9dc2-48e8-b86c-4e93d6cf9ef0",
   "metadata": {},
   "outputs": [
    {
     "name": "stdout",
     "output_type": "stream",
     "text": [
      "*\n",
      "***\n",
      "*****\n",
      "*******\n",
      "*********\n",
      "***********\n",
      "*************\n",
      "***************\n",
      "*****************\n",
      "*******************\n",
      "*********************\n",
      "***********************\n",
      "*************************\n",
      "***************************\n",
      "*****************************\n",
      "*******************************\n",
      "*********************************\n",
      "***********************************\n",
      "*************************************\n",
      "***************************************\n"
     ]
    }
   ],
   "source": [
    "temp = 1\n",
    "for i in range(20):\n",
    "    print(\"*\"*temp)\n",
    "    temp += 2"
   ]
  },
  {
   "cell_type": "markdown",
   "id": "2d0f69c3-1b53-4dc0-9c70-4232bba85b15",
   "metadata": {},
   "source": [
    "20. Write a program to find the greatest common divisor (GCD) of two numbers using a `for` loop."
   ]
  },
  {
   "cell_type": "code",
   "execution_count": 16,
   "id": "6b5bad57-09af-4694-9cda-589204f4be48",
   "metadata": {},
   "outputs": [
    {
     "name": "stdout",
     "output_type": "stream",
     "text": [
      "5\n"
     ]
    }
   ],
   "source": [
    "def gcd1(n):\n",
    "    gcd = []\n",
    "    for i in range(1,n+1):\n",
    "        if n % i == 0:\n",
    "            gcd.append(i)\n",
    "    return gcd\n",
    "def gcd(i,j):\n",
    "    a = set(gcd1(i))\n",
    "    b = set(gcd1(j))\n",
    "    c = max(a.intersection(b))\n",
    "    return c\n",
    "print(gcd(10,5))"
   ]
  },
  {
   "cell_type": "markdown",
   "id": "a918385b-95c2-41d2-ae90-2e538ae9597c",
   "metadata": {},
   "source": [
    "21. Create a program that calculates the sum of the digits of numbers in a list using a list comprehension."
   ]
  },
  {
   "cell_type": "code",
   "execution_count": 19,
   "id": "73dbfac8-bc23-4c13-beac-50237aa3bc6e",
   "metadata": {},
   "outputs": [
    {
     "data": {
      "text/plain": [
       "20"
      ]
     },
     "execution_count": 19,
     "metadata": {},
     "output_type": "execute_result"
    }
   ],
   "source": [
    "lis = [5,5,5,5]\n",
    "result = sum(i for i in lis)\n",
    "result"
   ]
  },
  {
   "cell_type": "markdown",
   "id": "1ed556e9-43e2-4edf-8e52-c7259e83ff6e",
   "metadata": {},
   "source": [
    "22. Write a program to find the prime factors of a given number using a `for` loop and list comprehension."
   ]
  },
  {
   "cell_type": "code",
   "execution_count": 28,
   "id": "98e31362-7b4e-4412-905f-f363bc56ea4a",
   "metadata": {},
   "outputs": [
    {
     "name": "stdout",
     "output_type": "stream",
     "text": [
      "[2, 3, 5, 7, 11, 13, 17, 19]\n"
     ]
    }
   ],
   "source": [
    "def prime_factors(n):\n",
    "    if n < 2:\n",
    "        return False\n",
    "    for i in range(2, int(n** 0.5) + 1):\n",
    "        if n % i == 0:\n",
    "            return False\n",
    "    return True\n",
    "def prime_factor(num):\n",
    "    result = list(i for i in range(1,num+1) if prime_factors(i) == True)\n",
    "    return result\n",
    "print(prime_factor(20))"
   ]
  },
  {
   "cell_type": "markdown",
   "id": "69e68944-e7bd-4213-b5ca-e585b54c52cc",
   "metadata": {},
   "source": [
    "23. Develop a program that extracts unique elements from a list and stores them in a new list using a list\n",
    "comprehension."
   ]
  },
  {
   "cell_type": "code",
   "execution_count": 46,
   "id": "a5d871f5-900b-4405-96a7-c0edfb3c3b27",
   "metadata": {},
   "outputs": [
    {
     "data": {
      "text/plain": [
       "[1, 2, 3, 4, 5]"
      ]
     },
     "execution_count": 46,
     "metadata": {},
     "output_type": "execute_result"
    }
   ],
   "source": [
    "liss = [1,1,2,2,3,4,5]\n",
    "lis = list(set(i for i in liss))\n",
    "lis "
   ]
  },
  {
   "cell_type": "markdown",
   "id": "4cbe40c2-beab-4e14-b652-8c53c2b8bc75",
   "metadata": {},
   "source": [
    "24. Create a program that generates a list of all palindromic numbers up to a specified limit using a list\n",
    "comprehension."
   ]
  },
  {
   "cell_type": "code",
   "execution_count": 51,
   "id": "57c992de-0f7a-47ed-a7a5-10615078b46b",
   "metadata": {},
   "outputs": [
    {
     "name": "stdout",
     "output_type": "stream",
     "text": [
      "[0, 1, 2, 3, 4, 5, 6, 7, 8, 9, 11, 22, 33, 44, 55, 66, 77, 88, 99, 101, 111, 121, 131, 141, 151, 161, 171, 181, 191, 202, 212, 222, 232, 242, 252, 262, 272, 282, 292, 303, 313, 323, 333, 343, 353, 363, 373, 383, 393, 404, 414, 424, 434, 444, 454, 464, 474, 484, 494, 505, 515, 525, 535, 545, 555, 565, 575, 585, 595, 606, 616, 626, 636, 646, 656, 666, 676, 686, 696, 707, 717, 727, 737, 747, 757, 767, 777, 787, 797, 808, 818, 828, 838, 848, 858, 868, 878, 888, 898, 909, 919, 929, 939, 949, 959, 969, 979, 989, 999, 1001, 1111, 1221, 1331, 1441, 1551, 1661, 1771, 1881, 1991, 2002, 2112, 2222, 2332, 2442, 2552, 2662, 2772, 2882, 2992, 3003, 3113, 3223, 3333, 3443, 3553, 3663, 3773, 3883, 3993, 4004, 4114, 4224, 4334, 4444, 4554, 4664, 4774, 4884, 4994, 5005, 5115, 5225, 5335, 5445, 5555, 5665, 5775, 5885, 5995, 6006, 6116, 6226, 6336, 6446, 6556, 6666, 6776, 6886, 6996, 7007, 7117, 7227, 7337, 7447, 7557, 7667, 7777, 7887, 7997, 8008, 8118, 8228, 8338, 8448, 8558, 8668, 8778, 8888, 8998, 9009, 9119, 9229, 9339, 9449, 9559, 9669, 9779, 9889, 9999]\n"
     ]
    }
   ],
   "source": [
    "count = 10000\n",
    "palindrome = list(i for i in range(count+1) if str(i) == str(i)[::-1])\n",
    "print(palindrome)"
   ]
  },
  {
   "cell_type": "markdown",
   "id": "077d09ac-933f-4f75-b4e6-2d7c27ec9fb6",
   "metadata": {},
   "source": [
    "25. Write a program to flatten a nested list using list comprehension."
   ]
  },
  {
   "cell_type": "code",
   "execution_count": 1,
   "id": "5cd39c7e-3405-442d-aed9-1543ce0416a3",
   "metadata": {},
   "outputs": [
    {
     "name": "stdout",
     "output_type": "stream",
     "text": [
      "[1, 2, 3, 'hello', 'hi', 7, 8, 9]\n"
     ]
    }
   ],
   "source": [
    "lis = [1,2,3,[\"hello\",'hi'],7,8,9]\n",
    "flat = list(j for i in lis  for j in (i if type(i) == list else [i]))\n",
    "print(flat)"
   ]
  },
  {
   "cell_type": "markdown",
   "id": "63b4bf87-ffe5-46c0-8a29-8d2e531491fb",
   "metadata": {},
   "source": [
    "26. Develop a program that computes the sum of even and odd numbers in a list separately using list\n",
    "comprehension."
   ]
  },
  {
   "cell_type": "code",
   "execution_count": 2,
   "id": "227e7b03-63db-4b20-aed6-7960d90b30c1",
   "metadata": {},
   "outputs": [
    {
     "data": {
      "text/plain": [
       "(30, 25)"
      ]
     },
     "execution_count": 2,
     "metadata": {},
     "output_type": "execute_result"
    }
   ],
   "source": [
    "lis = [1,2,3,4,5,6,7,8,9,10]\n",
    "a,b = sum(list(i for i in (j for j in lis if j % 2 == 0 ))),sum(list(i for i in (j for j in lis if j % 2 != 0 )))\n",
    "a,b"
   ]
  },
  {
   "cell_type": "markdown",
   "id": "6a95f41d-b5df-4325-b42d-7a960f219f5b",
   "metadata": {},
   "source": [
    "27. Create a program that generates a list of squares of odd numbers between 1 and 10 using list\n",
    "comprehension."
   ]
  },
  {
   "cell_type": "code",
   "execution_count": 11,
   "id": "512e7c9d-f94c-45ae-af07-6c99a8bacfcc",
   "metadata": {},
   "outputs": [
    {
     "name": "stdout",
     "output_type": "stream",
     "text": [
      "[1, 9, 25, 49, 81]\n"
     ]
    }
   ],
   "source": [
    "square = list(i**2 for i in ( j for j in range(1,11) if j % 2 != 0 ))\n",
    "print(square)"
   ]
  },
  {
   "cell_type": "markdown",
   "id": "b1608982-e444-47c7-9bfe-4f8b2ab36b2e",
   "metadata": {},
   "source": [
    "28. Write a program that combines two lists into a dictionary using list comprehension."
   ]
  },
  {
   "cell_type": "code",
   "execution_count": 12,
   "id": "5fda6742-967c-4ed9-bee6-5abf653fe133",
   "metadata": {},
   "outputs": [
    {
     "data": {
      "text/plain": [
       "{'a': 1, 'b': 2, 'c': 3}"
      ]
     },
     "execution_count": 12,
     "metadata": {},
     "output_type": "execute_result"
    }
   ],
   "source": [
    "lis = ['a','b','c']\n",
    "lis1 = [1,2,3]\n",
    "dct = dict(list([i,j] for i,j in zip(lis,lis1)))\n",
    "dct"
   ]
  },
  {
   "cell_type": "markdown",
   "id": "ac9c970a-fc05-49ad-af6f-2a405c0438d7",
   "metadata": {},
   "source": [
    "29. Develop a program that extracts the vowels from a string and stores them in a list using list comprehension."
   ]
  },
  {
   "cell_type": "code",
   "execution_count": 29,
   "id": "ee13d192-8101-4203-a162-b9180566b87a",
   "metadata": {},
   "outputs": [
    {
     "data": {
      "text/plain": [
       "['e', 'u', 'a', 'i', 'o']"
      ]
     },
     "execution_count": 29,
     "metadata": {},
     "output_type": "execute_result"
    }
   ],
   "source": [
    "vowels = ['a','e','i','o','u']\n",
    "string = 'education'\n",
    "vow = list(i for i in string if i in vowels)\n",
    "vow"
   ]
  },
  {
   "cell_type": "markdown",
   "id": "32ffdd73-3850-4db7-ab51-bbfd235a2a83",
   "metadata": {},
   "source": [
    "30. Create a program that removes all non-numeric characters from a list of strings using list comprehension."
   ]
  },
  {
   "cell_type": "code",
   "execution_count": 1,
   "id": "4338eddd-4d22-4f99-8a9d-c1d6f7fdea87",
   "metadata": {},
   "outputs": [
    {
     "data": {
      "text/plain": [
       "['1', '12', '2']"
      ]
     },
     "execution_count": 1,
     "metadata": {},
     "output_type": "execute_result"
    }
   ],
   "source": [
    "lis = ['hey1',\"hello12\",'hi2']\n",
    "result = list(\"\".join(i for i in j if i.isnumeric()) for j in lis)\n",
    "result"
   ]
  },
  {
   "cell_type": "markdown",
   "id": "afe23212-36f2-4d17-8bab-9775a0150fb6",
   "metadata": {},
   "source": [
    "31. Write a program to generate a list of prime numbers using the Sieve of Eratosthenes algorithm and list\n",
    "comprehension."
   ]
  },
  {
   "cell_type": "code",
   "execution_count": 18,
   "id": "ee70bed3-9640-44f4-a844-1e3539a57be3",
   "metadata": {},
   "outputs": [
    {
     "name": "stdout",
     "output_type": "stream",
     "text": [
      "[2, 3, 5, 7, 11, 13, 17, 19, 23, 29, 31, 37, 41, 43, 47]\n"
     ]
    }
   ],
   "source": [
    "def sieve_of_eratosthenes(n):\n",
    "    is_prime = [True] * (n+1)\n",
    "    is_prime[0] = is_prime[1] = False\n",
    "    for i in range(2, int(n**0.5) + 1):\n",
    "        if is_prime[i]:\n",
    "            for j in range(i * i, n+1, i):\n",
    "                is_prime[j] = False\n",
    "    return list(num for num in range(2, n+1) if is_prime[num])\n",
    "\n",
    "n = 50\n",
    "print(sieve_of_eratosthenes(n))"
   ]
  },
  {
   "cell_type": "markdown",
   "id": "7d1d14f3-5473-4f88-b4df-8aff54bb41d0",
   "metadata": {},
   "source": [
    "32. Create a program that generates a list of all Pythagorean triplets up to a specified limit using list\n",
    "comprehension."
   ]
  },
  {
   "cell_type": "code",
   "execution_count": 2,
   "id": "49ad39a3-854f-4855-8f5b-dcbd7c02f1c3",
   "metadata": {},
   "outputs": [
    {
     "data": {
      "text/plain": [
       "[(3, 4, 5),\n",
       " (5, 12, 13),\n",
       " (6, 8, 10),\n",
       " (7, 24, 25),\n",
       " (8, 15, 17),\n",
       " (9, 12, 15),\n",
       " (9, 40, 41),\n",
       " (10, 24, 26),\n",
       " (11, 60, 61),\n",
       " (12, 16, 20),\n",
       " (12, 35, 37),\n",
       " (13, 84, 85),\n",
       " (14, 48, 50),\n",
       " (15, 20, 25),\n",
       " (15, 36, 39),\n",
       " (16, 30, 34),\n",
       " (16, 63, 65),\n",
       " (18, 24, 30),\n",
       " (18, 80, 82),\n",
       " (20, 21, 29),\n",
       " (20, 48, 52),\n",
       " (21, 28, 35),\n",
       " (21, 72, 75),\n",
       " (24, 32, 40),\n",
       " (24, 45, 51),\n",
       " (24, 70, 74),\n",
       " (25, 60, 65),\n",
       " (27, 36, 45),\n",
       " (28, 45, 53),\n",
       " (28, 96, 100),\n",
       " (30, 40, 50),\n",
       " (30, 72, 78),\n",
       " (32, 60, 68),\n",
       " (33, 44, 55),\n",
       " (33, 56, 65),\n",
       " (35, 84, 91),\n",
       " (36, 48, 60),\n",
       " (36, 77, 85),\n",
       " (39, 52, 65),\n",
       " (39, 80, 89),\n",
       " (40, 42, 58),\n",
       " (40, 75, 85),\n",
       " (42, 56, 70),\n",
       " (45, 60, 75),\n",
       " (48, 55, 73),\n",
       " (48, 64, 80),\n",
       " (51, 68, 85),\n",
       " (54, 72, 90),\n",
       " (57, 76, 95),\n",
       " (60, 63, 87),\n",
       " (60, 80, 100),\n",
       " (65, 72, 97)]"
      ]
     },
     "execution_count": 2,
     "metadata": {},
     "output_type": "execute_result"
    }
   ],
   "source": [
    "limit = 100\n",
    "Pythogorean_triple = [(a,b,c) for a in range(1,limit+1) for b in range(a, limit +1) for c in range(b,limit+1) if a**2 + b**2 == c**2]\n",
    "Pythogorean_triple"
   ]
  },
  {
   "cell_type": "markdown",
   "id": "a485b9b9-4c56-4b0d-8927-f9580f237e05",
   "metadata": {},
   "source": [
    "33. Develop a program that generates a list of all possible combinations of two lists using list comprehension."
   ]
  },
  {
   "cell_type": "code",
   "execution_count": 3,
   "id": "4a45183a-67b3-4f7b-a819-16a710a3e40f",
   "metadata": {},
   "outputs": [
    {
     "name": "stdout",
     "output_type": "stream",
     "text": [
      "[(1, 'a'), (1, 'b'), (1, 'c'), (1, 'd'), (2, 'a'), (2, 'b'), (2, 'c'), (2, 'd'), (3, 'a'), (3, 'b'), (3, 'c'), (3, 'd'), (4, 'a'), (4, 'b'), (4, 'c'), (4, 'd')]\n"
     ]
    }
   ],
   "source": [
    "a = [1,2,3,4]\n",
    "b = ['a','b','c','d']\n",
    "combination = [(i,j) for i in a for j in b]\n",
    "print(combination)"
   ]
  },
  {
   "cell_type": "markdown",
   "id": "3a84132c-1ed9-4b1f-975b-f6113d21f273",
   "metadata": {},
   "source": [
    "34. Write a program that calculates the mean, median, and mode of a list of numbers using list\n",
    "comprehension."
   ]
  },
  {
   "cell_type": "code",
   "execution_count": 87,
   "id": "733b768e-55ce-4ef2-9606-d948b8a7aa80",
   "metadata": {},
   "outputs": [
    {
     "name": "stdout",
     "output_type": "stream",
     "text": [
      "Mean: 4.1\n",
      "Median: 4.5\n",
      "Mode: [2, 5, 6]\n"
     ]
    }
   ],
   "source": [
    "from collections import Counter\n",
    "\n",
    "def calculate_mean(numbers):\n",
    "    return sum(numbers) / len(numbers) if len(numbers) > 0 else 0\n",
    "\n",
    "def calculate_median(numbers):\n",
    "    sorted_numbers = sorted(numbers)\n",
    "    n = len(sorted_numbers)\n",
    "    mid = n // 2\n",
    "\n",
    "    if n % 2 == 0:\n",
    "        return (sorted_numbers[mid - 1] + sorted_numbers[mid]) / 2\n",
    "    else:\n",
    "        return sorted_numbers[mid]\n",
    "\n",
    "def calculate_mode(numbers):\n",
    "    counter = Counter(numbers)\n",
    "    max_count = max(counter.values())\n",
    "    return [num for num, count in counter.items() if count == max_count]\n",
    "\n",
    "number_list = [1, 2, 2, 3, 4, 5, 5, 6, 6, 7]\n",
    "\n",
    "mean = calculate_mean(number_list)\n",
    "median = calculate_median(number_list)\n",
    "mode = calculate_mode(number_list)\n",
    "\n",
    "print(f\"Mean: {mean}\")\n",
    "print(f\"Median: {median}\")\n",
    "print(f\"Mode: {mode}\")"
   ]
  },
  {
   "cell_type": "markdown",
   "id": "880a6183-3392-40f9-b7c7-03ee56c990fe",
   "metadata": {},
   "source": [
    "35. Create a program that generates Pascal's triangle up to a specified number of rows using list\n",
    "comprehension."
   ]
  },
  {
   "cell_type": "code",
   "execution_count": 6,
   "id": "3b88f946-4a25-41cc-8c48-bc87b7d8a760",
   "metadata": {},
   "outputs": [
    {
     "name": "stdout",
     "output_type": "stream",
     "text": [
      "              1               \n",
      "             1 1              \n",
      "            1 2 1             \n",
      "           1 3 3 1            \n",
      "          1 4 6 4 1           \n",
      "        1 5 10 10 5 1         \n",
      "       1 6 15 20 15 6 1       \n",
      "     1 7 21 35 35 21 7 1      \n",
      "    1 8 28 56 70 56 28 8 1    \n",
      " 1 9 36 84 126 126 84 36 9 1  \n"
     ]
    }
   ],
   "source": [
    "def generate_pascals_triangle(n):\n",
    "    triangle = [[1]]\n",
    "    for i in range(1, n):\n",
    "        row = [1]\n",
    "        for j in range(1, i):\n",
    "            row.append(triangle[i-1][j-1] + triangle[i-1][j])\n",
    "        row.append(1)\n",
    "        triangle.append(row)\n",
    "    return triangle\n",
    "\n",
    "def print_pascals_triangle(triangle):\n",
    "    for row in triangle:\n",
    "        print(\" \".join(map(str, row)).center(len(triangle[-1])*3))\n",
    "\n",
    "num_rows = 10\n",
    "pascals_triangle = generate_pascals_triangle(num_rows)\n",
    "print_pascals_triangle(pascals_triangle)\n"
   ]
  },
  {
   "cell_type": "markdown",
   "id": "9e9adf2d-34f1-4732-b7a3-977327e700bc",
   "metadata": {},
   "source": [
    "36. Develop a program that calculates the sum of the digits of a factorial of numbers from 1 to 5 using list\n",
    "comprehension."
   ]
  },
  {
   "cell_type": "code",
   "execution_count": 23,
   "id": "921363a8-49ea-46e6-8006-f35952de56bd",
   "metadata": {},
   "outputs": [
    {
     "name": "stdout",
     "output_type": "stream",
     "text": [
      "[1, 2, 6, 6, 3]\n"
     ]
    }
   ],
   "source": [
    "import math\n",
    "def sum_digi(digi):\n",
    "    return sum(int(i) for i in str(digi))\n",
    "\n",
    "num = 5\n",
    "sum_of_digi = [sum_digi(math.factorial(i)) for i in range(1,num+1)]\n",
    "print(sum_of_digi)"
   ]
  },
  {
   "cell_type": "markdown",
   "id": "4114bf99-e14f-4a2c-8dc4-a4970c66c491",
   "metadata": {},
   "source": [
    "37. Write a program that finds the longest word in a sentence using list comprehension."
   ]
  },
  {
   "cell_type": "code",
   "execution_count": 64,
   "id": "34530eca-7f42-4b67-83fc-ae05b3429316",
   "metadata": {},
   "outputs": [
    {
     "name": "stdout",
     "output_type": "stream",
     "text": [
      "welcome\n"
     ]
    }
   ],
   "source": [
    "lis = 'hello hi welcome'\n",
    "long_word = max([i for i in lis.split()])\n",
    "print(long_word)"
   ]
  },
  {
   "cell_type": "markdown",
   "id": "5d899288-35eb-4913-bb9b-571b9c678b2c",
   "metadata": {},
   "source": [
    "38. Create a program that filters a list of strings to include only those with more than three vowels using list\n",
    "comprehension."
   ]
  },
  {
   "cell_type": "code",
   "execution_count": 6,
   "id": "e33dfaa5-5791-4598-b228-ffb57aaadb22",
   "metadata": {},
   "outputs": [
    {
     "name": "stdout",
     "output_type": "stream",
     "text": [
      "['aeio']\n"
     ]
    }
   ],
   "source": [
    "def vowel_count(words):\n",
    "    vow = 'aeiouAEIOU'\n",
    "    return sum(1 for i in words if i in vow)\n",
    "def filter_string(lis):\n",
    "    return [i for i in lis if vowel_count(i) > 3]\n",
    "words = ['hello','equal','aeio']\n",
    "print(filter_string(words))"
   ]
  },
  {
   "cell_type": "markdown",
   "id": "490856c5-e18f-487c-aa1c-3a160521e757",
   "metadata": {},
   "source": [
    "39. Develop a program that calculates the sum of the digits of numbers from 1 to 1000 using list\n",
    "comprehension."
   ]
  },
  {
   "cell_type": "code",
   "execution_count": 27,
   "id": "a10c6766-63fd-41f6-a4fd-6e416db3b860",
   "metadata": {},
   "outputs": [
    {
     "name": "stdout",
     "output_type": "stream",
     "text": [
      "The sum of digits for 1 is: 1\n",
      "The sum of digits for 2 is: 2\n",
      "The sum of digits for 3 is: 3\n",
      "The sum of digits for 4 is: 4\n",
      "The sum of digits for 5 is: 5\n",
      "The sum of digits for 6 is: 6\n",
      "The sum of digits for 7 is: 7\n",
      "The sum of digits for 8 is: 8\n",
      "The sum of digits for 9 is: 9\n",
      "The sum of digits for 10 is: 1\n",
      "The sum of digits for 11 is: 2\n",
      "The sum of digits for 12 is: 3\n",
      "The sum of digits for 13 is: 4\n",
      "The sum of digits for 14 is: 5\n",
      "The sum of digits for 15 is: 6\n",
      "The sum of digits for 16 is: 7\n",
      "The sum of digits for 17 is: 8\n",
      "The sum of digits for 18 is: 9\n",
      "The sum of digits for 19 is: 10\n",
      "The sum of digits for 20 is: 2\n",
      "The sum of digits for 21 is: 3\n",
      "The sum of digits for 22 is: 4\n",
      "The sum of digits for 23 is: 5\n",
      "The sum of digits for 24 is: 6\n",
      "The sum of digits for 25 is: 7\n",
      "The sum of digits for 26 is: 8\n",
      "The sum of digits for 27 is: 9\n",
      "The sum of digits for 28 is: 10\n",
      "The sum of digits for 29 is: 11\n",
      "The sum of digits for 30 is: 3\n",
      "The sum of digits for 31 is: 4\n",
      "The sum of digits for 32 is: 5\n",
      "The sum of digits for 33 is: 6\n",
      "The sum of digits for 34 is: 7\n",
      "The sum of digits for 35 is: 8\n",
      "The sum of digits for 36 is: 9\n",
      "The sum of digits for 37 is: 10\n",
      "The sum of digits for 38 is: 11\n",
      "The sum of digits for 39 is: 12\n",
      "The sum of digits for 40 is: 4\n",
      "The sum of digits for 41 is: 5\n",
      "The sum of digits for 42 is: 6\n",
      "The sum of digits for 43 is: 7\n",
      "The sum of digits for 44 is: 8\n",
      "The sum of digits for 45 is: 9\n",
      "The sum of digits for 46 is: 10\n",
      "The sum of digits for 47 is: 11\n",
      "The sum of digits for 48 is: 12\n",
      "The sum of digits for 49 is: 13\n"
     ]
    }
   ],
   "source": [
    "def sum_of_digits(number):\n",
    "    return sum(int(digit) for digit in str(number))\n",
    "\n",
    "sums_of_digits = [sum_of_digits(i) for i in range(1, 50)]\n",
    "\n",
    "for number, digit_sum in enumerate(sums_of_digits, start=1):\n",
    "    print(f\"The sum of digits for {number} is: {digit_sum}\")"
   ]
  },
  {
   "cell_type": "markdown",
   "id": "c8292b47-8bd1-4f86-86f9-883a3e3cdca6",
   "metadata": {},
   "source": [
    "40. Write a program that generates a list of prime palindromic numbers using list comprehension."
   ]
  },
  {
   "cell_type": "code",
   "execution_count": 21,
   "id": "6cd939c9-90c7-4cc3-8d5d-e6d5d087fd4a",
   "metadata": {},
   "outputs": [
    {
     "name": "stdout",
     "output_type": "stream",
     "text": [
      "[2, 3, 5, 7, 11, 101, 131, 151, 181, 191, 313, 353, 373, 383, 727, 757, 787, 797, 919, 929]\n"
     ]
    }
   ],
   "source": [
    "def is_prime(n):\n",
    "    if n < 2:\n",
    "        return False\n",
    "    for i in range(2, int(n**0.5) + 1):\n",
    "        if n % i == 0:\n",
    "            return False\n",
    "    return True\n",
    "prime_palindrome = [i for i in range(2,1000) if is_prime(i) and str(i) == str(i)[::-1]]\n",
    "print(prime_palindrome)"
   ]
  }
 ],
 "metadata": {
  "kernelspec": {
   "display_name": "Python 3 (ipykernel)",
   "language": "python",
   "name": "python3"
  },
  "language_info": {
   "codemirror_mode": {
    "name": "ipython",
    "version": 3
   },
   "file_extension": ".py",
   "mimetype": "text/x-python",
   "name": "python",
   "nbconvert_exporter": "python",
   "pygments_lexer": "ipython3",
   "version": "3.10.8"
  }
 },
 "nbformat": 4,
 "nbformat_minor": 5
}
